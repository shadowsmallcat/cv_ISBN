{
 "cells": [
  {
   "cell_type": "code",
   "execution_count": 12,
   "id": "002c14b5",
   "metadata": {},
   "outputs": [],
   "source": [
    "import os\n",
    "import cv2\n",
    "import numpy as np"
   ]
  },
  {
   "cell_type": "code",
   "execution_count": 2,
   "id": "800f978a",
   "metadata": {},
   "outputs": [],
   "source": [
    "def cv_show(name,img):\n",
    "    cv2.imshow(name,img) \n",
    "    cv2.waitKey(0) \n",
    "    cv2.destroyAllWindows()"
   ]
  },
  {
   "cell_type": "code",
   "execution_count": 6,
   "id": "59f84ca1",
   "metadata": {},
   "outputs": [],
   "source": [
    "def get_img(picture_path):\n",
    "    img = cv2.imread(picture_path,0) #0表示灰度图\n",
    "    return img"
   ]
  },
  {
   "cell_type": "code",
   "execution_count": 3,
   "id": "df52782f",
   "metadata": {},
   "outputs": [],
   "source": [
    "def read_path(file_pathname):\n",
    "    #遍历该目录下的所有图片文件\n",
    "    for filename in os.listdir(file_pathname):\n",
    "        print(filename)\n",
    "        img = cv2.imread(file_pathname+'/'+filename,0)\n",
    "        cv_show(\"a\",img)\n",
    "#注意*处如果包含家目录（home）不能写成~符号代替 \n",
    "#必须要写成\"/home\"的格式，否则会报错说找不到对应的目录\n",
    "#读取的目录"
   ]
  },
  {
   "cell_type": "code",
   "execution_count": 1,
   "id": "ca9fde72",
   "metadata": {},
   "outputs": [],
   "source": [
    "#read_path('./test_picture/')\n",
    "#print(os.getcwd())\n"
   ]
  },
  {
   "cell_type": "code",
   "execution_count": null,
   "id": "48f8258c",
   "metadata": {},
   "outputs": [],
   "source": []
  },
  {
   "cell_type": "code",
   "execution_count": 24,
   "id": "2025959d",
   "metadata": {},
   "outputs": [],
   "source": [
    "def start_process(file_pathname):\n",
    "    whlist = []\n",
    "    #遍历该目录下的所有图片文件\n",
    "    for filename in os.listdir(file_pathname):\n",
    "        img = get_img(file_pathname+'/'+filename)\n",
    "        (minVal, maxVal) = (np.min(img.shape), np.max(img.shape))\n",
    "        w_h = (maxVal/minVal)\n",
    "        if w_h<1.3:\n",
    "            print(filename,w_h)\n",
    "        whlist.append(w_h)\n",
    "    return whlist"
   ]
  },
  {
   "cell_type": "code",
   "execution_count": 25,
   "id": "b6f00eab",
   "metadata": {},
   "outputs": [
    {
     "name": "stdout",
     "output_type": "stream",
     "text": [
      "ISBN 978-7-01-020356-0.jpg___17.jpg 1.2777777777777777\n",
      "ISBN 978-7-04-007267-9.JPG___5.jpg 1.2941176470588236\n",
      "ISBN 978-7-101-05985-4.jpg___10.jpg 1.0\n",
      "ISBN 978-7-101-05985-4.jpg___12.jpg 1.2352941176470589\n",
      "ISBN 978-7-101-05985-4.jpg___21.jpg 1.2777777777777777\n",
      "ISBN 978-7-122-29990-1.png___16.jpg 1.0714285714285714\n",
      "ISBN 978-7-122-29990-1.png___2.jpg 1.2777777777777777\n",
      "ISBN 978-7-122-29990-1.png___3.jpg 1.1875\n",
      "ISBN 978-7-201-13314-0.jpg___14.jpg 1.263157894736842\n",
      "ISBN 978-7-201-13315-7.jpg___7.jpg 1.25\n",
      "ISBN 978-7-201-13874-9.jpg___6.jpg 1.2777777777777777\n",
      "ISBN 978-7-201-13874-9.jpg___7.jpg 1.2222222222222223\n",
      "ISBN 978-7-5020-8087-7.jpg___16.jpg 1.263157894736842\n",
      "ISBN 978-7-5020-8087-7.jpg___17.jpg 1.2222222222222223\n",
      "ISBN 978-7-5183-2844-4.jpg___7.jpg 1.263157894736842\n",
      "ISBN 978-7-5210-0203-4.jpg___21.jpg 1.25\n",
      "ISBN 978-7-5596-3614-0.jpg___7.jpg 1.25\n",
      "ISBN 978-7-5600-7320-0.png___20.jpg 1.2941176470588236\n",
      "ISBN 978-7-5600-8680-4.jpg___14.jpg 1.1428571428571428\n",
      "ISBN 978-7-5600-8680-4.jpg___8.jpg 1.2222222222222223\n",
      "ISBN 978-7-5600-9292-8.png___16.jpg 1.2777777777777777\n",
      "ISBN 978-7-5600-9292-8.png___9.jpg 1.2777777777777777\n",
      "ISBN 978-7-5613-5989-1.jpg___16.jpg 1.2666666666666666\n",
      "ISBN 978-7-5613-9398-7.jpg___19.jpg 1.263157894736842\n",
      "ISBN 978-7-5682-5388-8.jpg___11.jpg 1.263157894736842\n",
      "ISBN 978-7-5682-5388-8.jpg___17.jpg 1.2222222222222223\n",
      "ISBN 978-7-5682-5388-8.jpg___18.jpg 1.2\n",
      "1.0 8.333333333333334\n"
     ]
    }
   ],
   "source": [
    "whlist=[]\n",
    "whlist  =start_process('./char')\n",
    "print(np.min(whlist),np.max(whlist))#1.2 4"
   ]
  }
 ],
 "metadata": {
  "kernelspec": {
   "display_name": "Python [conda env:pytorch] *",
   "language": "python",
   "name": "conda-env-pytorch-py"
  },
  "language_info": {
   "codemirror_mode": {
    "name": "ipython",
    "version": 3
   },
   "file_extension": ".py",
   "mimetype": "text/x-python",
   "name": "python",
   "nbconvert_exporter": "python",
   "pygments_lexer": "ipython3",
   "version": "3.8.10"
  }
 },
 "nbformat": 4,
 "nbformat_minor": 5
}
