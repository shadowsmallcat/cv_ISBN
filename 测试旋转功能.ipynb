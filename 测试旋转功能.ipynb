{
 "cells": [
  {
   "cell_type": "code",
   "execution_count": 35,
   "id": "e4ebfec3",
   "metadata": {},
   "outputs": [],
   "source": [
    "import cv2 #opencv读取的格式是BGR\n",
    "import numpy as np\n",
    "import matplotlib.pyplot as plt#Matplotlib是RGB\n",
    "%matplotlib inline "
   ]
  },
  {
   "cell_type": "code",
   "execution_count": 36,
   "id": "c7f4fedf",
   "metadata": {},
   "outputs": [],
   "source": [
    "def cv_show(name,img):\n",
    "    cv2.imshow(name,img) \n",
    "    cv2.waitKey(0) \n",
    "    cv2.destroyAllWindows()\n",
    "    "
   ]
  },
  {
   "cell_type": "code",
   "execution_count": 37,
   "id": "80866bb2",
   "metadata": {},
   "outputs": [],
   "source": [
    "def resize(image, width=None, height=None, inter=cv2.INTER_AREA):\n",
    "    dim = None\n",
    "    (h, w) = image.shape[:2]\n",
    "    if width is None and height is None:\n",
    "        return image\n",
    "    if width is None:\n",
    "        r = height / float(h)\n",
    "        dim = (int(w * r), height)\n",
    "    else:\n",
    "        r = width / float(w)\n",
    "        dim = (width, int(h * r))\n",
    "    resized = cv2.resize(image, dim, interpolation=inter)\n",
    "    return resized"
   ]
  },
  {
   "cell_type": "code",
   "execution_count": 38,
   "id": "8d4cc632",
   "metadata": {},
   "outputs": [],
   "source": [
    "def order_points(rect,box):\n",
    "    rect_angle = np.zeros((4, 2), dtype = \"float32\")\n",
    "    left_top = box[2]\n",
    "    right_top = box[3]\n",
    "    left_bottom = box[1]\n",
    "    right_bottom = box[0]\n",
    "    theta = rect[2]\n",
    "    height =  np.int0(rect[1][1])\n",
    "    width =  np.int0(rect[1][0])\n",
    "    return [left_top,right_top,right_bottom,left_bottom,height,width]"
   ]
  },
  {
   "cell_type": "code",
   "execution_count": 39,
   "id": "b6750777",
   "metadata": {},
   "outputs": [],
   "source": [
    "def four_point_transform(image, rect,pts):\n",
    "    # 获取输入坐标点\n",
    "    rect_ = order_points(rect,pts)\n",
    "    (tl, tr, br, bl,height,width) = rect_\n",
    "    points = np.array([(tl, tr, br, bl)],dtype = \"float32\")\n",
    "    # 变换后对应坐标位置\n",
    "    dst =np.array([\n",
    "        [0, 0],\n",
    "        [height, 0],\n",
    "        [height, width],\n",
    "        [0,width]], dtype = \"float32\")\n",
    "         \n",
    "    # 计算变换矩阵\n",
    "    print(points)\n",
    "    M = cv2.getPerspectiveTransform(points, dst)\n",
    "    warped = cv2.warpPerspective(image, M, (height, width))\n",
    "\n",
    "    # 返回变换后结果\n",
    "    return warped"
   ]
  },
  {
   "cell_type": "code",
   "execution_count": 71,
   "id": "bc4d8be7",
   "metadata": {},
   "outputs": [],
   "source": [
    "rectKernel = cv2.getStructuringElement(cv2.MORPH_RECT, (25, 5))\n",
    "#sqKernel = cv2.getStructuringElement(cv2.MORPH_RECT, (5, 5))"
   ]
  },
  {
   "cell_type": "code",
   "execution_count": 81,
   "id": "5fd41d31",
   "metadata": {},
   "outputs": [],
   "source": [
    "img_o = cv2.imread('ISBN -7-80603-718-7.jpg',0) \n",
    "img_o = resize(img_o, height = 500)\n",
    "img = cv2.imread('ISBN -7-80603-718-7.jpg',0) #0表示灰度图\n",
    "ratio = img.shape[0] / 500.0\n",
    "img = resize(img, height = 500)\n",
    "img = cv2.GaussianBlur(img, (5, 5), 1)\n",
    "cv_show('img',img)\n",
    "img = img[:int(img.shape[0]*0.8),:]\n",
    "cv_show('img',img)"
   ]
  },
  {
   "cell_type": "code",
   "execution_count": 84,
   "id": "e60c40af",
   "metadata": {},
   "outputs": [],
   "source": [
    "#gradX = cv2.Sobel(img, ddepth=cv2.CV_64F, dx=1, dy=0, ksize=-1)\n",
    "#gradX = np.absolute(gradX)\n",
    "#(minVal, maxVal) = (np.min(gradX), np.max(gradX))\n",
    "#gradX = (255 * ((gradX - minVal) / (maxVal - minVal)))\n",
    "ret, img_binary = cv2.threshold(img, 0 , 255, cv2.THRESH_OTSU)\n",
    "#gradX = gradX.astype(\"uint8\")\n",
    "#cv_show('gradX',gradX)\n",
    "img_binary = cv2.bitwise_not(img_binary)\n",
    "cv_show('a',img_binary)\n",
    "img_binary = cv2.dilate(img_binary,rectKernel,iterations = 2)\n",
    "#ret, img_binary = cv2.threshold(img_binary, 0 , 255, cv2.THRESH_OTSU)\n",
    "cv_show('img',img_binary)"
   ]
  },
  {
   "cell_type": "code",
   "execution_count": 74,
   "id": "0e344121",
   "metadata": {},
   "outputs": [],
   "source": [
    "edged = cv2.Canny(img_binary, 100, 200)\n",
    "cnts,a = cv2.findContours(edged, cv2.RETR_LIST, cv2.CHAIN_APPROX_SIMPLE)"
   ]
  },
  {
   "cell_type": "code",
   "execution_count": 75,
   "id": "21b6105b",
   "metadata": {},
   "outputs": [
    {
     "name": "stdout",
     "output_type": "stream",
     "text": [
      "(44.561927795410156, 489.6343078613281)\n"
     ]
    }
   ],
   "source": [
    "char_region =[]\n",
    "for (i, c) in enumerate(cnts):\n",
    "    # 计算矩形\n",
    "    rect  = cv2.minAreaRect(c)\n",
    "    box = cv2.boxPoints(rect)\n",
    "    box = np.int0(box)\n",
    "    cv2.drawContours(img, [box], 0, (255, 255, 255), 5)\n",
    "    #cv2.imwrite('contours.png', img.copy())\n",
    "    #print(rect)\n",
    "    #print(rect[2],box)\n",
    "    (w,h) = rect[1][0],rect[1][1]\n",
    "    ar = h/w\n",
    "    if ar >= 8: \n",
    "        cv2.drawContours(img, [box], 0, (255, 255, 255), 5)\n",
    "        cv2.imwrite('contours.png', img.copy())\n",
    "        char_region = [rect,box]\n",
    "        cv_show('a',img.copy())\n",
    "        print((w,h))\n",
    "        break"
   ]
  },
  {
   "cell_type": "code",
   "execution_count": 76,
   "id": "f2e6e2cf",
   "metadata": {},
   "outputs": [
    {
     "data": {
      "text/plain": [
       "tuple"
      ]
     },
     "execution_count": 76,
     "metadata": {},
     "output_type": "execute_result"
    }
   ],
   "source": [
    "type(char_region[0])"
   ]
  },
  {
   "cell_type": "code",
   "execution_count": 77,
   "id": "c5b23ac5",
   "metadata": {},
   "outputs": [
    {
     "data": {
      "text/plain": [
       "[((343.7901611328125, 46.96757888793945),\n",
       "  (44.561927795410156, 489.6343078613281),\n",
       "  -84.53463745117188),\n",
       " array([[585,  92],\n",
       "        [ 97,  45],\n",
       "        [102,   1],\n",
       "        [589,  48]], dtype=int64)]"
      ]
     },
     "execution_count": 77,
     "metadata": {},
     "output_type": "execute_result"
    }
   ],
   "source": [
    "char_region"
   ]
  },
  {
   "cell_type": "code",
   "execution_count": 78,
   "id": "421b1561",
   "metadata": {},
   "outputs": [
    {
     "data": {
      "text/plain": [
       "array([[179, 180, 181, ...,   0,   0,   0],\n",
       "       [181, 182, 178, ...,   0,   0,   0],\n",
       "       [181, 177, 165, ...,   0,   0,   1],\n",
       "       ...,\n",
       "       [192, 198, 198, ...,  50,  42,  30],\n",
       "       [192, 190, 188, ...,  49,  39,  24],\n",
       "       [197, 195, 196, ...,  50,  37,  23]], dtype=uint8)"
      ]
     },
     "execution_count": 78,
     "metadata": {},
     "output_type": "execute_result"
    }
   ],
   "source": [
    "img_o"
   ]
  },
  {
   "cell_type": "code",
   "execution_count": 79,
   "id": "ab13cac4",
   "metadata": {},
   "outputs": [
    {
     "name": "stdout",
     "output_type": "stream",
     "text": [
      "[[[102.   1.]\n",
      "  [589.  48.]\n",
      "  [585.  92.]\n",
      "  [ 97.  45.]]]\n",
      "STEP 3: 变换\n"
     ]
    }
   ],
   "source": [
    "warped = four_point_transform(img_o, char_region[0],char_region[1])\n",
    "#warped = cv2.cvtColor(warped, cv2.COLOR_BGR2GRAY)\n",
    "print(\"STEP 3: 变换\")\n",
    "cv_show('pcture',warped)"
   ]
  }
 ],
 "metadata": {
  "kernelspec": {
   "display_name": "Python [conda env:pytorch] *",
   "language": "python",
   "name": "conda-env-pytorch-py"
  },
  "language_info": {
   "codemirror_mode": {
    "name": "ipython",
    "version": 3
   },
   "file_extension": ".py",
   "mimetype": "text/x-python",
   "name": "python",
   "nbconvert_exporter": "python",
   "pygments_lexer": "ipython3",
   "version": "3.8.10"
  }
 },
 "nbformat": 4,
 "nbformat_minor": 5
}
